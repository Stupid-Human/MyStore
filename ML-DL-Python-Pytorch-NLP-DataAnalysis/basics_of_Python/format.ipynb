{
 "cells": [
  {
   "cell_type": "markdown",
   "metadata": {},
   "source": [
    "# **函数 str.format()**\n",
    "\n",
    "**它增强了字符串格式化的功能**\n",
    "\n",
    "**基本语法是通过 {} 和 : 来代替以前的 %**\n",
    "\n",
    "**format 函数可以接受不限个参数，位置可以不按顺序**"
   ]
  },
  {
   "cell_type": "markdown",
   "metadata": {},
   "source": [
    "## **设置指定位置**"
   ]
  },
  {
   "cell_type": "code",
   "execution_count": 19,
   "metadata": {},
   "outputs": [
    {
     "name": "stdout",
     "output_type": "stream",
     "text": [
      "hello world\n",
      "hello world\n",
      "world hello world\n"
     ]
    }
   ],
   "source": [
    "#不设置指定位置，按默认顺序 注意两个{}中间有空格\n",
    "print('{} {}'.format('hello', 'world'))\n",
    "\n",
    "#设置指定位置\n",
    "print('{0} {1}'.format('hello', 'world'))\n",
    "\n",
    "#设置指定位置\n",
    "print('{1} {0} {1}'.format('hello', 'world'))"
   ]
  },
  {
   "cell_type": "markdown",
   "metadata": {},
   "source": [
    "## **设置参数**"
   ]
  },
  {
   "cell_type": "code",
   "execution_count": 27,
   "metadata": {},
   "outputs": [
    {
     "name": "stdout",
     "output_type": "stream",
     "text": [
      "网站名：菜鸟教程，地址：www.runoob.com\n",
      "网站名：菜鸟教程，地址：www.runoob.com\n",
      "网站名：菜鸟教程，地址：www.runoob.com\n"
     ]
    }
   ],
   "source": [
    "print('网站名：{name}，地址：{url}'.format(name = '菜鸟教程', url = 'www.runoob.com'))\n",
    "\n",
    "# 通过字典设置参数\n",
    "site = {'name':'菜鸟教程', 'url':'www.runoob.com'}\n",
    "print('网站名：{name}，地址：{url}'.format(**site))\n",
    "\n",
    "# 通过列表索引设置参数\n",
    "my_list = ['菜鸟教程', 'www.runoob.com']\n",
    "print('网站名：{0[0]}，地址：{0[1]}'.format(my_list))"
   ]
  },
  {
   "cell_type": "markdown",
   "metadata": {},
   "source": [
    "## **向 str.format() 传入对象**"
   ]
  },
  {
   "cell_type": "code",
   "execution_count": 28,
   "metadata": {},
   "outputs": [
    {
     "name": "stdout",
     "output_type": "stream",
     "text": [
      "value 为: 6\n"
     ]
    }
   ],
   "source": [
    "class AssignValue(object):\n",
    "    def __init__(self, value):\n",
    "        self.value = value\n",
    "my_value = AssignValue(6)\n",
    "print('value 为: {0.value}'.format(my_value))  # \"0\" 是可选的"
   ]
  },
  {
   "cell_type": "markdown",
   "metadata": {},
   "source": [
    "## **数字格式化** \n",
    "\n",
    "**手册查阅 需要时再用 参见菜鸟教程：https://www.runoob.com/python/att-string-format.html**"
   ]
  },
  {
   "cell_type": "code",
   "execution_count": 31,
   "metadata": {},
   "outputs": [
    {
     "name": "stdout",
     "output_type": "stream",
     "text": [
      "0xb\n"
     ]
    }
   ],
   "source": [
    "print('{:#x}'.format(11))"
   ]
  },
  {
   "cell_type": "markdown",
   "metadata": {},
   "source": [
    "## **其他参考 https://www.cnblogs.com/benric/p/4965224.html**"
   ]
  }
 ],
 "metadata": {
  "kernelspec": {
   "display_name": "Python 3",
   "language": "python",
   "name": "python3"
  },
  "language_info": {
   "codemirror_mode": {
    "name": "ipython",
    "version": 3
   },
   "file_extension": ".py",
   "mimetype": "text/x-python",
   "name": "python",
   "nbconvert_exporter": "python",
   "pygments_lexer": "ipython3",
   "version": "3.7.0"
  },
  "toc": {
   "base_numbering": 1,
   "nav_menu": {},
   "number_sections": true,
   "sideBar": true,
   "skip_h1_title": false,
   "title_cell": "Table of Contents",
   "title_sidebar": "Contents",
   "toc_cell": false,
   "toc_position": {},
   "toc_section_display": true,
   "toc_window_display": false
  }
 },
 "nbformat": 4,
 "nbformat_minor": 2
}
