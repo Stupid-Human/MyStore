{
 "cells": [
  {
   "cell_type": "code",
   "execution_count": 2,
   "metadata": {},
   "outputs": [
    {
     "name": "stdout",
     "output_type": "stream",
     "text": [
      "['Michael', 'Sarah', 'Tracy']\n"
     ]
    }
   ],
   "source": [
    "#!/usr/bin/env python\n",
    "# coding=utf-8\n",
    "L = ['Michael', 'Sarah', 'Tracy', 'Bob', 'Jack']\n",
    "r = []\n",
    "for i in range(3):\n",
    "    r.append(L[i])\n",
    "print(r)\n",
    "#取指定范围内的数的操作用循环十分麻烦"
   ]
  },
  {
   "cell_type": "markdown",
   "metadata": {},
   "source": [
    "**In addition to accessing list elements one at a time, Python provides concise syntax to access sublists; this is known as slicing:**"
   ]
  },
  {
   "cell_type": "code",
   "execution_count": 3,
   "metadata": {},
   "outputs": [
    {
     "name": "stdout",
     "output_type": "stream",
     "text": [
      "['Michael', 'Sarah', 'Tracy']\n",
      "['Bob', 'Jack']\n",
      "['Bob']\n",
      "[0, 1, 2, 3, 4, 5, 6, 7, 8, 9, 10, 11, 12, 13, 14, 15, 16, 17, 18, 19, 20, 21, 22, 23, 24, 25, 26, 27, 28, 29, 30, 31, 32, 33, 34, 35, 36, 37, 38, 39, 40, 41, 42, 43, 44, 45, 46, 47, 48, 49, 50, 51, 52, 53, 54, 55, 56, 57, 58, 59, 60, 61, 62, 63, 64, 65, 66, 67, 68, 69, 70, 71, 72, 73, 74, 75, 76, 77, 78, 79, 80, 81, 82, 83, 84, 85, 86, 87, 88, 89, 90, 91, 92, 93, 94, 95, 96, 97, 98, 99]\n",
      "[0, 2, 4, 6, 8]\n",
      "[99]\n",
      "[0]\n",
      "[0, 5, 10, 15, 20, 25, 30, 35, 40, 45, 50, 55, 60, 65, 70, 75, 80, 85, 90, 95]\n",
      "[0, 1, 2, 3, 4, 5, 6, 7, 8, 9, 10, 11, 12, 13, 14, 15, 16, 17, 18, 19, 20, 21, 22, 23, 24, 25, 26, 27, 28, 29, 30, 31, 32, 33, 34, 35, 36, 37, 38, 39, 40, 41, 42, 43, 44, 45, 46, 47, 48, 49, 50, 51, 52, 53, 54, 55, 56, 57, 58, 59, 60, 61, 62, 63, 64, 65, 66, 67, 68, 69, 70, 71, 72, 73, 74, 75, 76, 77, 78, 79, 80, 81, 82, 83, 84, 85, 86, 87, 88, 89, 90, 91, 92, 93, 94, 95, 96, 97, 98, 99]\n",
      "(0, 1, 2)\n",
      "ABC\n"
     ]
    }
   ],
   "source": [
    "#从索引0开始取，直到索引3为止，但不包括索引3\n",
    "print(L[0:3])\n",
    "\n",
    "#支持倒数切片\n",
    "print(L[-2:])\n",
    "print(L[-2:-1])\n",
    "\n",
    "#前10个数，每两个取一个\n",
    "L = list(range(100))\n",
    "print(L)\n",
    "print(L[0:10:2]) \n",
    "\n",
    "#获取最后一个数\n",
    "print(L[-1:])\n",
    "\n",
    "#获取第一个数\n",
    "print(L[:1])\n",
    "\n",
    "#所有数，每5个取一个\n",
    "print(L[::5])\n",
    "\n",
    "#只写[:]就可以原样复制一个list\n",
    "print(L[:])\n",
    "\n",
    "\n",
    "print((0, 1, 2, 3, 4, 5)[:3])\n",
    "#tuple也可以用切片操作，操作结果仍是tuple\n",
    "\n",
    "print('ABCDEFGHIGKLMN'[:3])\n",
    "#字符串也可以看成是一种list，每个元素就是一个字符\n",
    "#因此，字符串也可以用切片操作，操作结果仍是字符串"
   ]
  },
  {
   "cell_type": "code",
   "execution_count": 4,
   "metadata": {},
   "outputs": [
    {
     "name": "stdout",
     "output_type": "stream",
     "text": [
      "测试成功!\n"
     ]
    }
   ],
   "source": [
    "#实战：利用切片操作，实现一个trim()函数，去除字符串首尾的空格\n",
    "def trim(s):\n",
    "    while s[:1] == ' ':\n",
    "        s = s[1:]\n",
    "    while s[-1:] == ' ':\n",
    "        s = s[:-1]\n",
    "    return s\n",
    "\n",
    "#测试：\n",
    "if trim('hello  ') != 'hello':\n",
    "    print('测试失败!')\n",
    "elif trim('  hello') != 'hello':\n",
    "    print('测试失败!')\n",
    "elif trim('  hello  ') != 'hello':\n",
    "    print('测试失败!')\n",
    "elif trim('  hello  world  ') != 'hello  world':\n",
    "    print('测试失败!')\n",
    "elif trim('') != '':\n",
    "    print('测试失败!')\n",
    "elif trim('    ') != '':\n",
    "    print('测试失败!')\n",
    "else:\n",
    "    print('测试成功!')"
   ]
  }
 ],
 "metadata": {
  "kernelspec": {
   "display_name": "Python 3",
   "language": "python",
   "name": "python3"
  },
  "language_info": {
   "codemirror_mode": {
    "name": "ipython",
    "version": 3
   },
   "file_extension": ".py",
   "mimetype": "text/x-python",
   "name": "python",
   "nbconvert_exporter": "python",
   "pygments_lexer": "ipython3",
   "version": "3.7.0"
  },
  "toc": {
   "base_numbering": 1,
   "nav_menu": {},
   "number_sections": true,
   "sideBar": true,
   "skip_h1_title": false,
   "title_cell": "Table of Contents",
   "title_sidebar": "Contents",
   "toc_cell": false,
   "toc_position": {},
   "toc_section_display": true,
   "toc_window_display": false
  }
 },
 "nbformat": 4,
 "nbformat_minor": 2
}
