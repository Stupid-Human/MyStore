{
 "cells": [
  {
   "cell_type": "markdown",
   "metadata": {},
   "source": [
    "**参考莫烦Python的简要教程**"
   ]
  },
  {
   "cell_type": "markdown",
   "metadata": {},
   "source": [
    "# **Numpy的属性**\n"
   ]
  },
  {
   "cell_type": "markdown",
   "metadata": {},
   "source": [
    "**ndim：维度**\n",
    "\n",
    "**shape：行数和列数**\n",
    "\n",
    "**size：元素个数** "
   ]
  },
  {
   "cell_type": "code",
   "execution_count": 1,
   "metadata": {},
   "outputs": [],
   "source": [
    "import numpy as np"
   ]
  },
  {
   "cell_type": "code",
   "execution_count": 207,
   "metadata": {},
   "outputs": [
    {
     "name": "stdout",
     "output_type": "stream",
     "text": [
      "(2, 3)\n",
      "6\n",
      "2\n"
     ]
    }
   ],
   "source": [
    "array = np.array([[1,2,3],[2,3,4]]) \n",
    "\n",
    "print(array.shape) #行数和列数\n",
    "print(array.size) #元素个数\n",
    "print(array.ndim) #维数"
   ]
  },
  {
   "cell_type": "markdown",
   "metadata": {},
   "source": [
    "# **array：创建数组**"
   ]
  },
  {
   "cell_type": "markdown",
   "metadata": {},
   "source": [
    "## **关键字**\n",
    "\n",
    "**array：创建数组**\n",
    "\n",
    "**dtype：指定数据类型**\n",
    "\n",
    "**zeros：创建数据全为0**\n",
    "\n",
    "**ones：创建数据全为1**\n",
    "\n",
    "**empty：创建数据接近0**\n",
    "\n",
    "**arrange：按指定范围创建数据**\n",
    "\n",
    "**linspace：创建线段**"
   ]
  },
  {
   "cell_type": "code",
   "execution_count": 13,
   "metadata": {},
   "outputs": [
    {
     "name": "stdout",
     "output_type": "stream",
     "text": [
      "[ 2 23  4]\n"
     ]
    }
   ],
   "source": [
    "a = np.array([2, 23, 4])\n",
    "print(a)\n",
    "#没有逗号分隔"
   ]
  },
  {
   "cell_type": "markdown",
   "metadata": {},
   "source": [
    "**dtype int float**"
   ]
  },
  {
   "cell_type": "code",
   "execution_count": 17,
   "metadata": {},
   "outputs": [
    {
     "name": "stdout",
     "output_type": "stream",
     "text": [
      "int64\n"
     ]
    }
   ],
   "source": [
    "a = np.array([2, 23, 4], dtype = np.int64)\n",
    "print(a.dtype)"
   ]
  },
  {
   "cell_type": "code",
   "execution_count": 18,
   "metadata": {},
   "outputs": [
    {
     "name": "stdout",
     "output_type": "stream",
     "text": [
      "int32\n"
     ]
    }
   ],
   "source": [
    "a = np.array([2, 23, 4], dtype = np.int)\n",
    "print(a.dtype)"
   ]
  },
  {
   "cell_type": "code",
   "execution_count": 19,
   "metadata": {},
   "outputs": [
    {
     "name": "stdout",
     "output_type": "stream",
     "text": [
      "int32\n"
     ]
    }
   ],
   "source": [
    "a = np.array([2, 23, 4], dtype = np.int32)\n",
    "print(a.dtype)"
   ]
  },
  {
   "cell_type": "code",
   "execution_count": 21,
   "metadata": {},
   "outputs": [
    {
     "name": "stdout",
     "output_type": "stream",
     "text": [
      "float64\n"
     ]
    }
   ],
   "source": [
    "a = np.array([2, 23, 4], dtype = np.float)\n",
    "print(a.dtype)"
   ]
  },
  {
   "cell_type": "code",
   "execution_count": 23,
   "metadata": {},
   "outputs": [
    {
     "name": "stdout",
     "output_type": "stream",
     "text": [
      "float32\n"
     ]
    }
   ],
   "source": [
    "a = np.array([2, 23, 4], dtype = np.float32)\n",
    "print(a.dtype)"
   ]
  },
  {
   "cell_type": "markdown",
   "metadata": {},
   "source": [
    "**指定行列数**"
   ]
  },
  {
   "cell_type": "code",
   "execution_count": 24,
   "metadata": {},
   "outputs": [
    {
     "name": "stdout",
     "output_type": "stream",
     "text": [
      "[[1 2 3]\n",
      " [5 6 7]]\n"
     ]
    }
   ],
   "source": [
    "array = np.array([[1, 2, 3],\n",
    "                 [5, 6, 7]])\n",
    "print(array)"
   ]
  },
  {
   "cell_type": "markdown",
   "metadata": {},
   "source": [
    "**全0**"
   ]
  },
  {
   "cell_type": "code",
   "execution_count": 26,
   "metadata": {},
   "outputs": [
    {
     "name": "stdout",
     "output_type": "stream",
     "text": [
      "[[0. 0. 0. 0.]\n",
      " [0. 0. 0. 0.]\n",
      " [0. 0. 0. 0.]]\n"
     ]
    }
   ],
   "source": [
    "a = np.zeros((3, 4))\n",
    "print(a)"
   ]
  },
  {
   "cell_type": "markdown",
   "metadata": {},
   "source": [
    "**全1**"
   ]
  },
  {
   "cell_type": "code",
   "execution_count": 28,
   "metadata": {},
   "outputs": [
    {
     "name": "stdout",
     "output_type": "stream",
     "text": [
      "[[1 1 1 1 1 1 1 1]\n",
      " [1 1 1 1 1 1 1 1]\n",
      " [1 1 1 1 1 1 1 1]\n",
      " [1 1 1 1 1 1 1 1]\n",
      " [1 1 1 1 1 1 1 1]]\n"
     ]
    }
   ],
   "source": [
    "a = np.ones((5, 8), dtype = np.int16)\n",
    "print(a)"
   ]
  },
  {
   "cell_type": "code",
   "execution_count": 49,
   "metadata": {},
   "outputs": [
    {
     "data": {
      "text/plain": [
       "array([[1., 1., 1., 1.],\n",
       "       [1., 1., 1., 1.],\n",
       "       [1., 1., 1., 1.]])"
      ]
     },
     "execution_count": 49,
     "metadata": {},
     "output_type": "execute_result"
    }
   ],
   "source": [
    "xArry = np.ones((3, 4))\n",
    "xArry"
   ]
  },
  {
   "cell_type": "markdown",
   "metadata": {},
   "source": [
    "**全空**"
   ]
  },
  {
   "cell_type": "code",
   "execution_count": 30,
   "metadata": {},
   "outputs": [
    {
     "name": "stdout",
     "output_type": "stream",
     "text": [
      "[[ 1.26711112e-311  9.63428009e-322  0.00000000e+000  0.00000000e+000\n",
      "   0.00000000e+000  5.02034658e+175]\n",
      " [ 2.52545406e-052  2.58143117e-057  3.27422224e+179  5.44227784e-062\n",
      "   1.47763641e+248  1.16096346e-028]\n",
      " [ 7.69165785e+218  1.35617292e+248  4.18160512e+175  3.77104371e-061\n",
      "   5.16185112e-066  8.98380644e-067]\n",
      " [ 4.25850093e-096  6.32299154e+233  3.65588282e+233  1.74569531e+238\n",
      "   1.11763132e+261  1.16318408e-028]\n",
      " [ 2.24729310e+174  1.56605686e-076  1.65612288e-076  6.36886359e-062\n",
      "   1.03030371e-071 -2.20141488e-227]]\n"
     ]
    }
   ],
   "source": [
    "a = np.empty((5, 6))\n",
    "print(a)"
   ]
  },
  {
   "cell_type": "markdown",
   "metadata": {},
   "source": [
    "**arange**"
   ]
  },
  {
   "cell_type": "code",
   "execution_count": 50,
   "metadata": {},
   "outputs": [
    {
     "name": "stdout",
     "output_type": "stream",
     "text": [
      "[10 17 24 31 38 45 52 59 66 73 80 87 94]\n"
     ]
    }
   ],
   "source": [
    "a = np.arange(10, 101, 7)\n",
    "print(a)\n",
    "#类似于Python中的arange 7为步长"
   ]
  },
  {
   "cell_type": "markdown",
   "metadata": {},
   "source": [
    "**reshape**"
   ]
  },
  {
   "cell_type": "code",
   "execution_count": 43,
   "metadata": {},
   "outputs": [
    {
     "name": "stdout",
     "output_type": "stream",
     "text": [
      "[[ 0  1  2  3]\n",
      " [ 4  5  6  7]\n",
      " [ 8  9 10 11]]\n"
     ]
    }
   ],
   "source": [
    "a = np.arange(12).reshape(3, 4)\n",
    "print(a)"
   ]
  },
  {
   "cell_type": "markdown",
   "metadata": {},
   "source": [
    "**linspace**"
   ]
  },
  {
   "cell_type": "code",
   "execution_count": 47,
   "metadata": {},
   "outputs": [
    {
     "name": "stdout",
     "output_type": "stream",
     "text": [
      "[  1.           6.21052632  11.42105263  16.63157895  21.84210526\n",
      "  27.05263158  32.26315789  37.47368421  42.68421053  47.89473684\n",
      "  53.10526316  58.31578947  63.52631579  68.73684211  73.94736842\n",
      "  79.15789474  84.36842105  89.57894737  94.78947368 100.        ]\n"
     ]
    }
   ],
   "source": [
    "a = np.linspace(1, 100, 20)\n",
    "print(a)"
   ]
  },
  {
   "cell_type": "code",
   "execution_count": 48,
   "metadata": {},
   "outputs": [
    {
     "name": "stdout",
     "output_type": "stream",
     "text": [
      "[[  1.           6.21052632]\n",
      " [ 11.42105263  16.63157895]\n",
      " [ 21.84210526  27.05263158]\n",
      " [ 32.26315789  37.47368421]\n",
      " [ 42.68421053  47.89473684]\n",
      " [ 53.10526316  58.31578947]\n",
      " [ 63.52631579  68.73684211]\n",
      " [ 73.94736842  79.15789474]\n",
      " [ 84.36842105  89.57894737]\n",
      " [ 94.78947368 100.        ]]\n"
     ]
    }
   ],
   "source": [
    "a = np.linspace(1, 100, 20).reshape(10, 2)\n",
    "print(a)"
   ]
  },
  {
   "cell_type": "markdown",
   "metadata": {},
   "source": [
    "# **Numpy基础运算**"
   ]
  },
  {
   "cell_type": "markdown",
   "metadata": {},
   "source": [
    "**+ - * / 幂次 sin... < ==等**"
   ]
  },
  {
   "cell_type": "code",
   "execution_count": 66,
   "metadata": {},
   "outputs": [
    {
     "name": "stdout",
     "output_type": "stream",
     "text": [
      "a: [10 20 30 40]\n",
      "b: [0 1 2 3]\n",
      "a,b: [10 20 30 40] [0 1 2 3]\n",
      "a+b: [10 21 32 43]\n",
      "a-b: [10 19 28 37]\n",
      "a*b: [  0  20  60 120]\n",
      "b/a: [0.         0.05       0.06666667 0.075     ]\n",
      "a^2: [ 100  400  900 1600]\n",
      "b^3: [ 0  1  8 27]\n",
      "10*sin(a): [-5.44021111  9.12945251 -9.88031624  7.4511316 ]\n",
      "b: [0 1 2 3]\n",
      "[ True  True  True False]\n",
      "b: [0 1 2 3]\n",
      "[False False False  True]\n"
     ]
    }
   ],
   "source": [
    "a = np.array([10, 20, 30, 40])\n",
    "b = np.arange(4)\n",
    "print('a:', a)\n",
    "print('b:', b)\n",
    "print('a,b:', a, b)\n",
    "c = a + b\n",
    "d = a - b\n",
    "e = a * b #逐个相乘 必须结构一样\n",
    "f = b / a\n",
    "g = a**2\n",
    "h = b**3\n",
    "print('a+b:',c)\n",
    "print('a-b:',d)\n",
    "print('a*b:',e)\n",
    "print('b/a:',f)\n",
    "print('a^2:', g)\n",
    "print('b^3:', h)\n",
    "\n",
    "c = 10*np.sin(a)\n",
    "print('10*sin(a):', c)\n",
    "#cos tan...\n",
    "\n",
    "print('b:', b)\n",
    "print(b<3)\n",
    "\n",
    "print('b:', b)\n",
    "print(b==3)"
   ]
  },
  {
   "cell_type": "markdown",
   "metadata": {},
   "source": [
    "**矩阵相乘**"
   ]
  },
  {
   "cell_type": "code",
   "execution_count": 82,
   "metadata": {},
   "outputs": [
    {
     "name": "stdout",
     "output_type": "stream",
     "text": [
      "a:\n",
      "[[9 1 8]\n",
      " [2 1 0]]\n",
      "b:\n",
      "[[ 0  1  2  3]\n",
      " [ 4  5  6  7]\n",
      " [ 8  9 10 11]]\n",
      "a和b的矩阵相乘:\n",
      "[[ 68  86 104 122]\n",
      " [  4   7  10  13]]\n",
      "[[ 68  86 104 122]\n",
      " [  4   7  10  13]]\n"
     ]
    }
   ],
   "source": [
    "a = np.array([[9, 1, 8],\n",
    "              [2, 1, 0]])\n",
    "b = np.arange(12).reshape((3, 4))\n",
    "print('a:')\n",
    "print(a)\n",
    "print('b:')\n",
    "print(b) \n",
    "\n",
    "c_dot = np.dot(a, b) \n",
    "c_dot_2 = a.dot(b)    #另一种表示\n",
    "print('a和b的矩阵相乘:')\n",
    "print(c_dot)\n",
    "print(c_dot_2)"
   ]
  },
  {
   "cell_type": "markdown",
   "metadata": {},
   "source": [
    "**求和 求最小值 求最大值**"
   ]
  },
  {
   "cell_type": "code",
   "execution_count": 96,
   "metadata": {},
   "outputs": [
    {
     "name": "stdout",
     "output_type": "stream",
     "text": [
      "[[0.68395722 0.32871112 0.08393997 0.40696852]\n",
      " [0.11737653 0.39442263 0.41932678 0.86160738]]\n",
      "3.2963101445303495\n",
      "0.08393997269296327\n",
      "0.8616073839681309\n"
     ]
    }
   ],
   "source": [
    "a = np.random.random((2, 4))\n",
    "print(a)\n",
    "#随机生成0到1的数字\n",
    "\n",
    "print(np.sum(a))\n",
    "print(np.min(a))\n",
    "print(np.max(a))\n",
    "      "
   ]
  },
  {
   "cell_type": "markdown",
   "metadata": {},
   "source": [
    "**在行数、列数中求和**"
   ]
  },
  {
   "cell_type": "code",
   "execution_count": 108,
   "metadata": {},
   "outputs": [
    {
     "name": "stdout",
     "output_type": "stream",
     "text": [
      "[1.50357683 1.79273331]\n",
      "[0.80133375 0.72313375 0.50326675 1.2685759 ]\n",
      "[0.08393997 0.11737653]\n",
      "[0.11737653 0.32871112 0.08393997 0.40696852]\n",
      "[0.68395722 0.86160738]\n",
      "[0.68395722 0.39442263 0.41932678 0.86160738]\n"
     ]
    }
   ],
   "source": [
    "print(np.sum(a, axis=1))    #在列数求和\n",
    "print(np.sum(a, axis=0))    #在行数种求和\n",
    "print(np.min(a, axis=1))\n",
    "print(np.min(a, axis=0))\n",
    "print(np.max(a, axis=1))\n",
    "print(np.max(a, axis=0))"
   ]
  },
  {
   "cell_type": "markdown",
   "metadata": {},
   "source": [
    "**argmin() argmax(),求矩阵中最小元素和最大元素的索引**"
   ]
  },
  {
   "cell_type": "code",
   "execution_count": 113,
   "metadata": {},
   "outputs": [
    {
     "name": "stdout",
     "output_type": "stream",
     "text": [
      "[[ 2  3  4  5]\n",
      " [ 6  7  8  9]\n",
      " [10 11 12 13]]\n",
      "0\n",
      "11\n"
     ]
    }
   ],
   "source": [
    "A = np.arange(2, 14).reshape((3, 4))\n",
    "print(A)\n",
    "print(np.argmin(A))\n",
    "print(np.argmax(A))"
   ]
  },
  {
   "cell_type": "markdown",
   "metadata": {},
   "source": [
    "**求均值、中位数**"
   ]
  },
  {
   "cell_type": "code",
   "execution_count": 149,
   "metadata": {},
   "outputs": [
    {
     "name": "stdout",
     "output_type": "stream",
     "text": [
      "8.5\n",
      "8.5\n",
      "8.5\n"
     ]
    }
   ],
   "source": [
    "print(np.mean(A))\n",
    "print(np.average(A)) #两种表达方式\n",
    "\n",
    "print(np.median(A)) #求中位数"
   ]
  },
  {
   "cell_type": "markdown",
   "metadata": {},
   "source": [
    "**累加的效果**"
   ]
  },
  {
   "cell_type": "code",
   "execution_count": 145,
   "metadata": {},
   "outputs": [
    {
     "name": "stdout",
     "output_type": "stream",
     "text": [
      "[[14 13 12 11]\n",
      " [10  9  8  7]\n",
      " [ 6  5  4  3]]\n",
      "[ 14  27  39  50  60  69  77  84  90  95  99 102]\n"
     ]
    }
   ],
   "source": [
    "print(A)\n",
    "print(np.cumsum(A))"
   ]
  },
  {
   "cell_type": "markdown",
   "metadata": {},
   "source": [
    "**差的效果**"
   ]
  },
  {
   "cell_type": "code",
   "execution_count": 128,
   "metadata": {},
   "outputs": [
    {
     "name": "stdout",
     "output_type": "stream",
     "text": [
      "[[ 2  3  4  5]\n",
      " [ 6  7  8  9]\n",
      " [10 11 12 13]]\n",
      "[[1 1 1]\n",
      " [1 1 1]\n",
      " [1 1 1]]\n"
     ]
    }
   ],
   "source": [
    "print(A)\n",
    "print(np.diff(A)) #后一个减前一个数的差"
   ]
  },
  {
   "cell_type": "markdown",
   "metadata": {},
   "source": [
    "**找出非0的数**"
   ]
  },
  {
   "cell_type": "code",
   "execution_count": 130,
   "metadata": {},
   "outputs": [
    {
     "name": "stdout",
     "output_type": "stream",
     "text": [
      "(array([0, 0, 0, 0, 1, 1, 1, 1, 2, 2, 2, 2], dtype=int64), array([0, 1, 2, 3, 0, 1, 2, 3, 0, 1, 2, 3], dtype=int64))\n"
     ]
    }
   ],
   "source": [
    "print(np.nonzero(A))\n",
    "\n",
    "#结果解释：第0行第0列，第0行第1列"
   ]
  },
  {
   "cell_type": "markdown",
   "metadata": {},
   "source": [
    "**逐行排序**"
   ]
  },
  {
   "cell_type": "code",
   "execution_count": 133,
   "metadata": {},
   "outputs": [
    {
     "name": "stdout",
     "output_type": "stream",
     "text": [
      "[[14 13 12 11]\n",
      " [10  9  8  7]\n",
      " [ 6  5  4  3]]\n",
      "[[11 12 13 14]\n",
      " [ 7  8  9 10]\n",
      " [ 3  4  5  6]]\n"
     ]
    }
   ],
   "source": [
    "A = np.arange(14, 2, -1).reshape(3, 4)\n",
    "print(A)\n",
    "\n",
    "print(np.sort(A))"
   ]
  },
  {
   "cell_type": "markdown",
   "metadata": {},
   "source": [
    "**矩阵转置**"
   ]
  },
  {
   "cell_type": "code",
   "execution_count": 139,
   "metadata": {},
   "outputs": [
    {
     "name": "stdout",
     "output_type": "stream",
     "text": [
      "[[14 13 12 11]\n",
      " [10  9  8  7]\n",
      " [ 6  5  4  3]]\n",
      "[[14 10  6]\n",
      " [13  9  5]\n",
      " [12  8  4]\n",
      " [11  7  3]]\n",
      "[[14 10  6]\n",
      " [13  9  5]\n",
      " [12  8  4]\n",
      " [11  7  3]]\n",
      "[[332 302 272 242]\n",
      " [302 275 248 221]\n",
      " [272 248 224 200]\n",
      " [242 221 200 179]]\n"
     ]
    }
   ],
   "source": [
    "A = np.arange(14, 2, -1).reshape(3, 4)\n",
    "print(A)\n",
    "\n",
    "print(np.transpose(A))\n",
    "print(A.T)    #另一种表示\n",
    "\n",
    "print((A.T).dot(A))"
   ]
  },
  {
   "cell_type": "markdown",
   "metadata": {},
   "source": [
    "**clip函数**"
   ]
  },
  {
   "cell_type": "code",
   "execution_count": 143,
   "metadata": {},
   "outputs": [
    {
     "name": "stdout",
     "output_type": "stream",
     "text": [
      "[[14 13 12 11]\n",
      " [10  9  8  7]\n",
      " [ 6  5  4  3]]\n",
      "[[8 8 8 8]\n",
      " [8 8 8 7]\n",
      " [6 5 4 3]]\n"
     ]
    }
   ],
   "source": [
    "#clip(Array,Array_min,Array_max)\n",
    "#让大于max的数变为max,让小于min的数变为min\n",
    "\n",
    "print(A)\n",
    "print(np.clip(A, 3, 8))"
   ]
  },
  {
   "cell_type": "markdown",
   "metadata": {},
   "source": [
    "**补充一下按列按行**"
   ]
  },
  {
   "cell_type": "code",
   "execution_count": 152,
   "metadata": {},
   "outputs": [
    {
     "name": "stdout",
     "output_type": "stream",
     "text": [
      "[[14 13 12 11]\n",
      " [10  9  8  7]\n",
      " [ 6  5  4  3]]\n",
      "[10.  9.  8.  7.]\n",
      "[12.5  8.5  4.5]\n"
     ]
    }
   ],
   "source": [
    "print(A)\n",
    "print(np.median(A, axis = 0)) #按行计算\n",
    "print(np.median(A, axis = 1)) #按列计算"
   ]
  },
  {
   "cell_type": "markdown",
   "metadata": {},
   "source": [
    "# **Numpy索引**"
   ]
  },
  {
   "cell_type": "markdown",
   "metadata": {},
   "source": [
    "**一维索引**"
   ]
  },
  {
   "cell_type": "code",
   "execution_count": 255,
   "metadata": {},
   "outputs": [
    {
     "name": "stdout",
     "output_type": "stream",
     "text": [
      "[ 3  4  5  6  7  8  9 10 11 12 13 14]\n",
      "6\n",
      "[[ 3  4  5  6]\n",
      " [ 7  8  9 10]\n",
      " [11 12 13 14]]\n",
      "[11 12 13 14]\n"
     ]
    }
   ],
   "source": [
    "A = np.arange(3, 15)\n",
    "print(A)\n",
    "print(A[3])\n",
    "\n",
    "A = np.arange(3, 15).reshape(3, 4)\n",
    "print(A)\n",
    "print(A[2])    #行数\n",
    " "
   ]
  },
  {
   "cell_type": "markdown",
   "metadata": {},
   "source": [
    "**二维索引**"
   ]
  },
  {
   "cell_type": "code",
   "execution_count": 256,
   "metadata": {},
   "outputs": [
    {
     "name": "stdout",
     "output_type": "stream",
     "text": [
      "8\n",
      "8\n",
      "[ 7  8  9 10]\n",
      "[ 4  8 12]\n",
      "[[ 3  4  5  6]\n",
      " [ 7  8  9 10]\n",
      " [11 12 13 14]]\n",
      "[8]\n",
      "[8 9]\n",
      "[3 4 5 6]\n",
      "[ 7  8  9 10]\n",
      "[11 12 13 14]\n",
      "[ 3  7 11]\n",
      "[ 4  8 12]\n",
      "[ 5  9 13]\n",
      "[ 6 10 14]\n",
      "[ 3  4  5  6  7  8  9 10 11 12 13 14]\n",
      "3\n",
      "4\n",
      "5\n",
      "6\n",
      "7\n",
      "8\n",
      "9\n",
      "10\n",
      "11\n",
      "12\n",
      "13\n",
      "14\n"
     ]
    }
   ],
   "source": [
    "print(A[1][1])\n",
    "print(A[1, 1])\n",
    "\n",
    "print(A[1, :])\n",
    "print(A[:, 1])\n",
    "print(A[:, :])\n",
    "\n",
    "print(A[1, 1:2])  #第一行 第1~2这个数\n",
    "print(A[1, 1:3])\n",
    "\n",
    "for row in A:\n",
    "    print(row)    #按行迭代\n",
    "\n",
    "for column in A.T:\n",
    "    print(column)     #实现按列迭代的效果\n",
    "\n",
    "print(A.flatten())    \n",
    "    \n",
    "for item in A.flat:\n",
    "    print(item)"
   ]
  },
  {
   "cell_type": "markdown",
   "metadata": {},
   "source": [
    "## **Numpy array 合并**"
   ]
  },
  {
   "cell_type": "markdown",
   "metadata": {},
   "source": [
    "**vstack 上下合并**\n",
    "\n",
    "**hstack 左右合并**"
   ]
  },
  {
   "cell_type": "code",
   "execution_count": 269,
   "metadata": {
    "scrolled": true
   },
   "outputs": [
    {
     "name": "stdout",
     "output_type": "stream",
     "text": [
      "[[1 1 1]\n",
      " [2 2 2]]\n",
      "(3,)\n",
      "(2, 3)\n",
      "[[1 1 1]\n",
      " [2 2 2]]\n",
      "(6,)\n",
      "[1 1 1 2 2 2]\n"
     ]
    }
   ],
   "source": [
    "A = np.array([1, 1, 1])\n",
    "B = np.array([2, 2, 2])\n",
    "\n",
    "\n",
    "c = np.vstack((A, B))\n",
    "print(c)\n",
    "print(A.shape)\n",
    "print(c.shape)\n",
    "print(c)\n",
    "\n",
    "c = np.hstack((A, B))\n",
    "print(c.shape)\n",
    "print(c)"
   ]
  },
  {
   "cell_type": "code",
   "execution_count": 270,
   "metadata": {},
   "outputs": [
    {
     "name": "stdout",
     "output_type": "stream",
     "text": [
      "A:\n",
      "[1 1 1]\n",
      "B:\n",
      "[2 2 2]\n",
      "A.T:\n",
      "[1 1 1]\n",
      "newA1:\n",
      "[[1 1 1]]\n",
      "newA2:\n",
      "[[1]\n",
      " [1]\n",
      " [1]]\n",
      "添加新维度后：\n",
      "A:\n",
      "[[1]\n",
      " [1]\n",
      " [1]]\n",
      "B:\n",
      "[[2]\n",
      " [2]\n",
      " [2]]\n",
      "(3, 1) (3, 2)\n",
      "[[1 2]\n",
      " [1 2]\n",
      " [1 2]]\n"
     ]
    }
   ],
   "source": [
    "print('A:')\n",
    "print(A)\n",
    "print('B:')\n",
    "print(B)\n",
    "\n",
    "print('A.T:')\n",
    "print(A.T)    #翻转不过来\n",
    "\n",
    "print('newA1:')\n",
    "print(A[np.newaxis,:])    #行上加一个维度 \n",
    "\n",
    "print('newA2:')    \n",
    "print(A[:,np.newaxis])    #纵向加维度 \n",
    "\n",
    "print('添加新维度后：')\n",
    "A = np.array([1, 1, 1])[:,np.newaxis]\n",
    "B = np.array([2, 2, 2])[:,np.newaxis]\n",
    "c = np.hstack((A, B))\n",
    "print('A:')\n",
    "print(A)\n",
    "print('B:')\n",
    "print(B)\n",
    "print(A.shape, c.shape)\n",
    "print(c)"
   ]
  },
  {
   "cell_type": "markdown",
   "metadata": {},
   "source": [
    "**再探newaxis**"
   ]
  },
  {
   "cell_type": "code",
   "execution_count": 265,
   "metadata": {},
   "outputs": [
    {
     "name": "stdout",
     "output_type": "stream",
     "text": [
      "[[2 3 4]\n",
      " [5 6 7]]\n",
      "(2, 3)\n",
      "[[[2 3 4]\n",
      "  [5 6 7]]]\n",
      "(1, 2, 3)\n",
      "[[[2 3 4]]\n",
      "\n",
      " [[5 6 7]]]\n",
      "(2, 1, 3)\n"
     ]
    }
   ],
   "source": [
    "HH = np.arange(2, 8).reshape(2, 3)\n",
    "print(HH)\n",
    "print(HH.shape)\n",
    "\n",
    "JJ = HH[np.newaxis,:]\n",
    "print(JJ)\n",
    "print(JJ.shape)\n",
    "\n",
    "KK = HH[:,np.newaxis]\n",
    "print(KK)\n",
    "print(KK.shape)"
   ]
  },
  {
   "cell_type": "markdown",
   "metadata": {},
   "source": [
    "插曲：验证属性输出"
   ]
  },
  {
   "cell_type": "code",
   "execution_count": 208,
   "metadata": {},
   "outputs": [
    {
     "name": "stdout",
     "output_type": "stream",
     "text": [
      "(6,)\n"
     ]
    }
   ],
   "source": [
    "MM = np.array([1, 2, 3, 4, 5, 6])\n",
    "print(np.shape(MM))"
   ]
  },
  {
   "cell_type": "markdown",
   "metadata": {},
   "source": [
    "**concatenate**"
   ]
  },
  {
   "cell_type": "code",
   "execution_count": 268,
   "metadata": {},
   "outputs": [
    {
     "name": "stdout",
     "output_type": "stream",
     "text": [
      "A:\n",
      "[[1]\n",
      " [1]\n",
      " [1]]\n",
      "B:\n",
      "[[2]\n",
      " [2]\n",
      " [2]]\n",
      "C:\n",
      "[[1]\n",
      " [1]\n",
      " [1]\n",
      " [2]\n",
      " [2]\n",
      " [2]\n",
      " [2]\n",
      " [2]\n",
      " [2]\n",
      " [1]\n",
      " [1]\n",
      " [1]]\n",
      "C:\n",
      "[[1 2 2 1]\n",
      " [1 2 2 1]\n",
      " [1 2 2 1]]\n"
     ]
    }
   ],
   "source": [
    "print('A:')\n",
    "print(A)\n",
    "print('B:')\n",
    "print(B)\n",
    "\n",
    "print('C:')\n",
    "C = np.concatenate((A,B,B,A),axis=0)    #上下这个方向合并\n",
    "print(C)\n",
    "\n",
    "print('C:')\n",
    "C = np.concatenate((A,B,B,A),axis=1)    #左右这个方向合并\n",
    "print(C)"
   ]
  },
  {
   "cell_type": "markdown",
   "metadata": {},
   "source": [
    "## **Numpy array 分割**"
   ]
  },
  {
   "cell_type": "code",
   "execution_count": 272,
   "metadata": {},
   "outputs": [
    {
     "name": "stdout",
     "output_type": "stream",
     "text": [
      "[[ 0  1  2  3]\n",
      " [ 4  5  6  7]\n",
      " [ 8  9 10 11]]\n"
     ]
    }
   ],
   "source": [
    "A = np.arange(12).reshape(3, 4)\n",
    "print(A)"
   ]
  },
  {
   "cell_type": "markdown",
   "metadata": {},
   "source": [
    "**split**"
   ]
  },
  {
   "cell_type": "code",
   "execution_count": 280,
   "metadata": {},
   "outputs": [
    {
     "name": "stdout",
     "output_type": "stream",
     "text": [
      "[array([[0, 1],\n",
      "       [4, 5],\n",
      "       [8, 9]]), array([[ 2,  3],\n",
      "       [ 6,  7],\n",
      "       [10, 11]])]\n",
      "[array([[0, 1, 2, 3]]), array([[4, 5, 6, 7]]), array([[ 8,  9, 10, 11]])]\n"
     ]
    }
   ],
   "source": [
    "print(np.split(A, 2, axis = 1))\n",
    "print(np.split(A, 3, axis = 0))"
   ]
  },
  {
   "cell_type": "markdown",
   "metadata": {},
   "source": [
    "**array_split**"
   ]
  },
  {
   "cell_type": "code",
   "execution_count": 282,
   "metadata": {},
   "outputs": [
    {
     "name": "stdout",
     "output_type": "stream",
     "text": [
      "[array([[0, 1],\n",
      "       [4, 5],\n",
      "       [8, 9]]), array([[ 2],\n",
      "       [ 6],\n",
      "       [10]]), array([[ 3],\n",
      "       [ 7],\n",
      "       [11]])]\n"
     ]
    }
   ],
   "source": [
    "print(np.array_split(A, 3, axis = 1))    #不等项分割"
   ]
  },
  {
   "cell_type": "markdown",
   "metadata": {},
   "source": [
    "**vsplit**\n",
    "\n",
    "**hsplit**"
   ]
  },
  {
   "cell_type": "code",
   "execution_count": 284,
   "metadata": {},
   "outputs": [
    {
     "name": "stdout",
     "output_type": "stream",
     "text": [
      "[array([[0, 1, 2, 3]]), array([[4, 5, 6, 7]]), array([[ 8,  9, 10, 11]])]\n",
      "[array([[0, 1],\n",
      "       [4, 5],\n",
      "       [8, 9]]), array([[ 2,  3],\n",
      "       [ 6,  7],\n",
      "       [10, 11]])]\n"
     ]
    }
   ],
   "source": [
    "print(np.vsplit(A, 3))\n",
    "print(np.hsplit(A, 2))"
   ]
  },
  {
   "cell_type": "markdown",
   "metadata": {},
   "source": [
    "# **Numpy copy & deep copy**"
   ]
  },
  {
   "cell_type": "markdown",
   "metadata": {},
   "source": [
    "**关于赋值, = 的赋值方式会带有关联性**"
   ]
  },
  {
   "cell_type": "code",
   "execution_count": 291,
   "metadata": {},
   "outputs": [
    {
     "name": "stdout",
     "output_type": "stream",
     "text": [
      "[0 1 2 3]\n",
      "[23  1  2  3]\n",
      "[23  1  2  3]\n",
      "[23  1  2  3]\n"
     ]
    },
    {
     "data": {
      "text/plain": [
       "True"
      ]
     },
     "execution_count": 291,
     "metadata": {},
     "output_type": "execute_result"
    }
   ],
   "source": [
    "a = np.arange(4)\n",
    "print(a)\n",
    "\n",
    "b = a\n",
    "c = a\n",
    "d = b\n",
    "\n",
    "a[0] = 23\n",
    "print(a)\n",
    "print(b)\n",
    "print(d)\n",
    "\n",
    "b is a"
   ]
  },
  {
   "cell_type": "code",
   "execution_count": 292,
   "metadata": {},
   "outputs": [
    {
     "data": {
      "text/plain": [
       "True"
      ]
     },
     "execution_count": 292,
     "metadata": {},
     "output_type": "execute_result"
    }
   ],
   "source": [
    "c is a"
   ]
  },
  {
   "cell_type": "code",
   "execution_count": 293,
   "metadata": {},
   "outputs": [
    {
     "data": {
      "text/plain": [
       "True"
      ]
     },
     "execution_count": 293,
     "metadata": {},
     "output_type": "execute_result"
    }
   ],
   "source": [
    "d is a"
   ]
  },
  {
   "cell_type": "code",
   "execution_count": 294,
   "metadata": {},
   "outputs": [
    {
     "name": "stdout",
     "output_type": "stream",
     "text": [
      "[23 55 66  3]\n"
     ]
    }
   ],
   "source": [
    "d[1:3] = [55, 66]\n",
    "\n",
    "print(a)"
   ]
  },
  {
   "cell_type": "markdown",
   "metadata": {},
   "source": [
    "**copy() 的赋值方式没有关联性 **"
   ]
  },
  {
   "cell_type": "code",
   "execution_count": 298,
   "metadata": {},
   "outputs": [
    {
     "name": "stdout",
     "output_type": "stream",
     "text": [
      "[ 23  55  66 100]\n",
      "[ 23  55  66 100]\n",
      "[ 23  55  66 100]\n",
      "[ 23  55  66 100]\n"
     ]
    },
    {
     "data": {
      "text/plain": [
       "False"
      ]
     },
     "execution_count": 298,
     "metadata": {},
     "output_type": "execute_result"
    }
   ],
   "source": [
    "mm = a.copy()\n",
    "\n",
    "print(a)\n",
    "print(mm)\n",
    "\n",
    "a[3] = 100\n",
    "print(a)\n",
    "print(mm)\n",
    "\n",
    "mm is a"
   ]
  },
  {
   "cell_type": "code",
   "execution_count": null,
   "metadata": {},
   "outputs": [],
   "source": []
  }
 ],
 "metadata": {
  "kernelspec": {
   "display_name": "Python 3",
   "language": "python",
   "name": "python3"
  },
  "language_info": {
   "codemirror_mode": {
    "name": "ipython",
    "version": 3
   },
   "file_extension": ".py",
   "mimetype": "text/x-python",
   "name": "python",
   "nbconvert_exporter": "python",
   "pygments_lexer": "ipython3",
   "version": "3.7.0"
  },
  "toc": {
   "base_numbering": 1,
   "nav_menu": {},
   "number_sections": true,
   "sideBar": true,
   "skip_h1_title": false,
   "title_cell": "Table of Contents",
   "title_sidebar": "Contents",
   "toc_cell": false,
   "toc_position": {},
   "toc_section_display": true,
   "toc_window_display": false
  }
 },
 "nbformat": 4,
 "nbformat_minor": 2
}
