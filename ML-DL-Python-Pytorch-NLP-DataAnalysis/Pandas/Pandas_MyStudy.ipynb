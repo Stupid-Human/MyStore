{
 "cells": [
  {
   "cell_type": "markdown",
   "metadata": {},
   "source": [
    "**参考莫凡Python**"
   ]
  },
  {
   "cell_type": "markdown",
   "metadata": {},
   "source": [
    "**Pandas的属性**"
   ]
  },
  {
   "cell_type": "markdown",
   "metadata": {},
   "source": [
    "**Numpy 和 Pandas 有什么不同**\n",
    "\n",
    "**可以说 Numpy 是列表形式的，没有数值标签，而 Pandas 就是字典形式**"
   ]
  },
  {
   "cell_type": "code",
   "execution_count": 1,
   "metadata": {},
   "outputs": [],
   "source": [
    "import numpy as np\n",
    "import pandas as pd"
   ]
  },
  {
   "cell_type": "markdown",
   "metadata": {},
   "source": [
    "pandas以float32或64位来存数据"
   ]
  },
  {
   "cell_type": "markdown",
   "metadata": {},
   "source": [
    "**两个数据结构：Series和DataFrame**\n",
    "\n",
    "**Series的字符串表现形式：索引在左边，值在右边**"
   ]
  },
  {
   "cell_type": "code",
   "execution_count": 2,
   "metadata": {},
   "outputs": [
    {
     "data": {
      "text/plain": [
       "0     1.0\n",
       "1     3.0\n",
       "2     4.0\n",
       "3     NaN\n",
       "4    34.0\n",
       "5     9.0\n",
       "dtype: float64"
      ]
     },
     "execution_count": 2,
     "metadata": {},
     "output_type": "execute_result"
    }
   ],
   "source": [
    "s = pd.Series([1, 3, 4, np.nan, 34, 9])\n",
    "s"
   ]
  },
  {
   "cell_type": "code",
   "execution_count": 3,
   "metadata": {},
   "outputs": [
    {
     "data": {
      "text/plain": [
       "DatetimeIndex(['2019-05-31', '2019-06-01', '2019-06-02', '2019-06-03',\n",
       "               '2019-06-04', '2019-06-05', '2019-06-06', '2019-06-07'],\n",
       "              dtype='datetime64[ns]', freq='D')"
      ]
     },
     "execution_count": 3,
     "metadata": {},
     "output_type": "execute_result"
    }
   ],
   "source": [
    "dates = pd.date_range('20190531', periods = 8)\n",
    "dates"
   ]
  },
  {
   "cell_type": "code",
   "execution_count": 4,
   "metadata": {},
   "outputs": [
    {
     "data": {
      "text/html": [
       "<div>\n",
       "<style scoped>\n",
       "    .dataframe tbody tr th:only-of-type {\n",
       "        vertical-align: middle;\n",
       "    }\n",
       "\n",
       "    .dataframe tbody tr th {\n",
       "        vertical-align: top;\n",
       "    }\n",
       "\n",
       "    .dataframe thead th {\n",
       "        text-align: right;\n",
       "    }\n",
       "</style>\n",
       "<table border=\"1\" class=\"dataframe\">\n",
       "  <thead>\n",
       "    <tr style=\"text-align: right;\">\n",
       "      <th></th>\n",
       "      <th>a</th>\n",
       "      <th>b</th>\n",
       "      <th>c</th>\n",
       "      <th>d</th>\n",
       "    </tr>\n",
       "  </thead>\n",
       "  <tbody>\n",
       "    <tr>\n",
       "      <th>2019-05-31</th>\n",
       "      <td>-0.607021</td>\n",
       "      <td>0.514490</td>\n",
       "      <td>0.702117</td>\n",
       "      <td>0.525820</td>\n",
       "    </tr>\n",
       "    <tr>\n",
       "      <th>2019-06-01</th>\n",
       "      <td>0.888359</td>\n",
       "      <td>0.277702</td>\n",
       "      <td>0.380997</td>\n",
       "      <td>0.389346</td>\n",
       "    </tr>\n",
       "    <tr>\n",
       "      <th>2019-06-02</th>\n",
       "      <td>-1.592587</td>\n",
       "      <td>-0.088465</td>\n",
       "      <td>0.406040</td>\n",
       "      <td>-0.244812</td>\n",
       "    </tr>\n",
       "    <tr>\n",
       "      <th>2019-06-03</th>\n",
       "      <td>-1.523865</td>\n",
       "      <td>1.351571</td>\n",
       "      <td>-1.367427</td>\n",
       "      <td>-1.191776</td>\n",
       "    </tr>\n",
       "    <tr>\n",
       "      <th>2019-06-04</th>\n",
       "      <td>-0.459496</td>\n",
       "      <td>0.220785</td>\n",
       "      <td>1.119268</td>\n",
       "      <td>0.091891</td>\n",
       "    </tr>\n",
       "    <tr>\n",
       "      <th>2019-06-05</th>\n",
       "      <td>-1.305711</td>\n",
       "      <td>1.681602</td>\n",
       "      <td>0.080103</td>\n",
       "      <td>-1.007254</td>\n",
       "    </tr>\n",
       "    <tr>\n",
       "      <th>2019-06-06</th>\n",
       "      <td>0.407575</td>\n",
       "      <td>0.565818</td>\n",
       "      <td>-1.491488</td>\n",
       "      <td>0.632650</td>\n",
       "    </tr>\n",
       "    <tr>\n",
       "      <th>2019-06-07</th>\n",
       "      <td>0.925807</td>\n",
       "      <td>2.014046</td>\n",
       "      <td>-1.098648</td>\n",
       "      <td>-0.683921</td>\n",
       "    </tr>\n",
       "  </tbody>\n",
       "</table>\n",
       "</div>"
      ],
      "text/plain": [
       "                   a         b         c         d\n",
       "2019-05-31 -0.607021  0.514490  0.702117  0.525820\n",
       "2019-06-01  0.888359  0.277702  0.380997  0.389346\n",
       "2019-06-02 -1.592587 -0.088465  0.406040 -0.244812\n",
       "2019-06-03 -1.523865  1.351571 -1.367427 -1.191776\n",
       "2019-06-04 -0.459496  0.220785  1.119268  0.091891\n",
       "2019-06-05 -1.305711  1.681602  0.080103 -1.007254\n",
       "2019-06-06  0.407575  0.565818 -1.491488  0.632650\n",
       "2019-06-07  0.925807  2.014046 -1.098648 -0.683921"
      ]
     },
     "execution_count": 4,
     "metadata": {},
     "output_type": "execute_result"
    }
   ],
   "source": [
    "df = pd.DataFrame(np.random.randn(8, 4), index = dates, columns = ['a', 'b', 'c', 'd'])\n",
    "df"
   ]
  }
 ],
 "metadata": {
  "kernelspec": {
   "display_name": "Python 3",
   "language": "python",
   "name": "python3"
  },
  "language_info": {
   "codemirror_mode": {
    "name": "ipython",
    "version": 3
   },
   "file_extension": ".py",
   "mimetype": "text/x-python",
   "name": "python",
   "nbconvert_exporter": "python",
   "pygments_lexer": "ipython3",
   "version": "3.7.0"
  },
  "toc": {
   "base_numbering": 1,
   "nav_menu": {},
   "number_sections": true,
   "sideBar": true,
   "skip_h1_title": false,
   "title_cell": "Table of Contents",
   "title_sidebar": "Contents",
   "toc_cell": false,
   "toc_position": {},
   "toc_section_display": true,
   "toc_window_display": false
  }
 },
 "nbformat": 4,
 "nbformat_minor": 2
}
