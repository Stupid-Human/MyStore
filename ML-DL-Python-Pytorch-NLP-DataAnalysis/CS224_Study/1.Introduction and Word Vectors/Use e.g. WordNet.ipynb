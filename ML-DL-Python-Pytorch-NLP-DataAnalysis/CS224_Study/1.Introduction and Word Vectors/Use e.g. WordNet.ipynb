{
 "cells": [
  {
   "cell_type": "code",
   "execution_count": 37,
   "metadata": {},
   "outputs": [],
   "source": [
    "from nltk.corpus import wordnet as wn\n",
    "poses = {'n':'noun', 'v':'verb', 's':'adj(s)', 'a':'adj', 'r':'adv'}"
   ]
  },
  {
   "cell_type": "code",
   "execution_count": 51,
   "metadata": {},
   "outputs": [
    {
     "name": "stdout",
     "output_type": "stream",
     "text": [
      "[Synset('dog.n.01'), Synset('frump.n.01'), Synset('dog.n.03'), Synset('cad.n.01'), Synset('frank.n.02'), Synset('pawl.n.01'), Synset('andiron.n.01'), Synset('chase.v.01')]\n",
      "***\n",
      "[Synset('chase.v.01')]\n"
     ]
    }
   ],
   "source": [
    "#Look up a word using synsets() 查询一个词所在的所有词集（synsets）\n",
    "# pos argument which lets you constrain the part of speech of the word:\n",
    "\n",
    "print(wn.synsets('dog'))\n",
    "print('***')\n",
    "print(wn.synsets('dog', pos = wn.VERB))"
   ]
  },
  {
   "cell_type": "code",
   "execution_count": 61,
   "metadata": {},
   "outputs": [
    {
     "data": {
      "text/plain": [
       "[Lemma('dog.n.01.dog'),\n",
       " Lemma('dog.n.01.domestic_dog'),\n",
       " Lemma('dog.n.01.Canis_familiaris')]"
      ]
     },
     "execution_count": 61,
     "metadata": {},
     "output_type": "execute_result"
    }
   ],
   "source": [
    "#输出词集和词的配对——词条（lemma）\n",
    "wn.synset('dog.n.01').lemmas( )"
   ]
  },
  {
   "cell_type": "code",
   "execution_count": 40,
   "metadata": {},
   "outputs": [
    {
     "name": "stdout",
     "output_type": "stream",
     "text": [
      "noun:good\n",
      "noun:good,goodness\n",
      "noun:good,goodness\n",
      "noun:commodity,trade_good,good\n",
      "adj:good\n",
      "adj(s):full,good\n",
      "adj:good\n",
      "adj(s):estimable,good,honorable,respectable\n",
      "adj(s):beneficial,good\n",
      "adj(s):good\n",
      "adj(s):good,just,upright\n",
      "adj(s):adept,expert,good,practiced,proficient,skillful,skilful\n",
      "adj(s):good\n",
      "adj(s):dear,good,near\n",
      "adj(s):dependable,good,safe,secure\n",
      "adj(s):good,right,ripe\n",
      "adj(s):good,well\n",
      "adj(s):effective,good,in_effect,in_force\n",
      "adj(s):good\n",
      "adj(s):good,serious\n",
      "adj(s):good,sound\n",
      "adj(s):good,salutary\n",
      "adj(s):good,honest\n",
      "adj(s):good,undecomposed,unspoiled,unspoilt\n",
      "adj(s):good\n",
      "adv:well,good\n",
      "adv:thoroughly,soundly,good\n"
     ]
    }
   ],
   "source": [
    "for synset in wn.synsets('good'):\n",
    "    print('{}:{}'.format(poses[synset.pos()],\n",
    "            ','.join([l.name() for l in synset.lemmas()])))\n",
    "\n",
    "#pos代表输出词性\n",
    "#lemmas"
   ]
  },
  {
   "cell_type": "code",
   "execution_count": 62,
   "metadata": {},
   "outputs": [
    {
     "data": {
      "text/plain": [
       "[Synset('procyonid.n.01'),\n",
       " Synset('carnivore.n.01'),\n",
       " Synset('placental.n.01'),\n",
       " Synset('mammal.n.01'),\n",
       " Synset('vertebrate.n.01'),\n",
       " Synset('chordate.n.01'),\n",
       " Synset('animal.n.01'),\n",
       " Synset('organism.n.01'),\n",
       " Synset('living_thing.n.01'),\n",
       " Synset('whole.n.02'),\n",
       " Synset('object.n.01'),\n",
       " Synset('physical_entity.n.01'),\n",
       " Synset('entity.n.01')]"
      ]
     },
     "execution_count": 62,
     "metadata": {},
     "output_type": "execute_result"
    }
   ],
   "source": [
    "panda = wn.synset('panda.n.01')\n",
    "hyper = lambda s: s.hypernyms()\n",
    "list(panda.closure(hyper))"
   ]
  },
  {
   "cell_type": "code",
   "execution_count": null,
   "metadata": {},
   "outputs": [],
   "source": []
  }
 ],
 "metadata": {
  "kernelspec": {
   "display_name": "Python 3",
   "language": "python",
   "name": "python3"
  },
  "language_info": {
   "codemirror_mode": {
    "name": "ipython",
    "version": 3
   },
   "file_extension": ".py",
   "mimetype": "text/x-python",
   "name": "python",
   "nbconvert_exporter": "python",
   "pygments_lexer": "ipython3",
   "version": "3.7.0"
  },
  "toc": {
   "base_numbering": 1,
   "nav_menu": {},
   "number_sections": true,
   "sideBar": true,
   "skip_h1_title": false,
   "title_cell": "Table of Contents",
   "title_sidebar": "Contents",
   "toc_cell": false,
   "toc_position": {},
   "toc_section_display": true,
   "toc_window_display": false
  }
 },
 "nbformat": 4,
 "nbformat_minor": 2
}
